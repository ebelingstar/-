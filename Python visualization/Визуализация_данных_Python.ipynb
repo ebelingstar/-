{
  "nbformat": 4,
  "nbformat_minor": 0,
  "metadata": {
    "colab": {
      "provenance": []
    },
    "kernelspec": {
      "name": "python3",
      "display_name": "Python 3"
    },
    "language_info": {
      "name": "python"
    }
  },
  "cells": [
    {
      "cell_type": "code",
      "execution_count": null,
      "metadata": {
        "id": "Oz6wTk1T62vj"
      },
      "outputs": [],
      "source": [
        "#Два графика\n",
        "import pandas as pd\n",
        "import matplotlib.pyplot as plt\n",
        "\n",
        "df=pd.read_csv(\"/content/books.csv\")\n",
        "df23=df[df[\"Год\"].isin([2023])]\n",
        "df24=df[df[\"Год\"].isin([2024])]\n",
        "\n",
        "x1=df23[\"Месяц\"]\n",
        "y1=df23[\"Книги\"]\n",
        "\n",
        "x2=df24[\"Месяц\"]\n",
        "y2=df24[\"Страницы\"]\n",
        "\n",
        "def line_chart(x1, y1):\n",
        "  plt.plot(x1, y1, marker=\"*\", mfc=\"#4682B4\", color=\"#FF1493\")\n",
        "  plt.grid(True)\n",
        "  plt.xlabel(\"Месяцы\")\n",
        "  plt.ylabel(\"Количество книг\")\n",
        "  plt.title(\"Прочитанные книги за год\")\n",
        "  plt.legend(\"Прочитано книг за месяц\")\n",
        "  return plt.show()\n",
        "\n",
        "def bar_chart(x2, y2):\n",
        "  plt.bar(x2, y2, color=\"#98FB98\")\n",
        "  plt.grid(True)\n",
        "  plt.xlabel(\"Месяцы\")\n",
        "  plt.ylabel(\"Количество страниц\")\n",
        "  plt.title(\"Прочитанные страницы за год\")\n",
        "  plt.legend(\"Прочитано страниц за месяц\")\n",
        "  return plt.show()\n",
        "\n",
        "plt.subplot(2, 1, 1)\n",
        "line_chart(x1, y1)\n",
        "plt.subplot(2, 1, 2)\n",
        "bar_chart(x2, y2)"
      ]
    },
    {
      "cell_type": "code",
      "source": [
        "#Сравниение двух датасетов\n",
        "import matplotlib.pyplot as plt\n",
        "\n",
        "def two_plots(y1, y2):\n",
        "  fig, ax = plt.subplots()\n",
        "  ax.set_title(\"Сравниение двух датасетов\")\n",
        "  ax.plot(y1, label='Dataset 1')\n",
        "  ax.plot(y2, label='Dataset 2')\n",
        "\n",
        "  ax.set_xlabel('Индекс')\n",
        "  ax.set_ylabel('Значение')\n",
        "  ax.set_title('Сравнение двух датасетов')\n",
        "  ax.legend()\n",
        "\n",
        "  plt.show()\n",
        "  return ax\n",
        "two_plots([1, 2, 3, 4, 5], [8, 7, 6, 2, 1])"
      ],
      "metadata": {
        "id": "RxTSbLgu7G_F"
      },
      "execution_count": null,
      "outputs": []
    },
    {
      "cell_type": "code",
      "source": [
        "#Столбчатая диаграмма\n",
        "import matplotlib.pyplot as plt\n",
        "def data_bar(x, y):\n",
        "  return plt.bar(x, y)\n",
        "\n",
        "data_bar([\"apple\", \"orange\", \"pear\", \"melon\"], [100, 200, 50, 30])"
      ],
      "metadata": {
        "id": "ED7iJ4f37LVO"
      },
      "execution_count": null,
      "outputs": []
    }
  ]
}